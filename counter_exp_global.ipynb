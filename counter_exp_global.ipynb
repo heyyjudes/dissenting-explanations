{
 "cells": [
  {
   "cell_type": "code",
   "execution_count": 2,
   "metadata": {
    "ExecuteTime": {
     "end_time": "2024-04-11T13:29:54.704119Z",
     "start_time": "2024-04-11T13:29:54.641013Z"
    },
    "id": "Qpprcx2oDfkB"
   },
   "outputs": [],
   "source": [
    "import numpy as np\n",
    "import pandas as pd\n",
    "import seaborn as sns\n",
    "from enum import Enum\n",
    "from tqdm import tqdm\n",
    "import matplotlib.pyplot as plt\n",
    "\n",
    "# Sklearn imports\n",
    "from sklearn.model_selection import train_test_split\n",
    "from sklearn.preprocessing import StandardScaler\n",
    "from sklearn.svm import SVC\n",
    "from sklearn.pipeline import make_pipeline\n",
    "from sklearn.feature_extraction.text import TfidfVectorizer\n",
    "\n",
    "import lime\n",
    "import lime.lime_text\n",
    "import lime.lime_tabular\n",
    "\n",
    "import torch\n",
    "from folktables import ACSDataSource, ACSIncome\n",
    "\n",
    "# local libraries\n",
    "import exp_utils as eu"
   ]
  },
  {
   "cell_type": "code",
   "execution_count": 3,
   "metadata": {
    "ExecuteTime": {
     "end_time": "2024-04-10T16:10:57.936825Z",
     "start_time": "2024-04-10T16:10:57.933209Z"
    }
   },
   "outputs": [],
   "source": [
    "# dataset selection\n",
    "class Data(Enum):\n",
    "    REVIEWS = 1\n",
    "    INCOME = 2\n",
    "\n",
    "\n",
    "Data = Enum(\"Data\", [\"REVIEWS\", \"INCOME\"])"
   ]
  },
  {
   "cell_type": "markdown",
   "metadata": {},
   "source": [
    "## Section 0: Load Data"
   ]
  },
  {
   "cell_type": "code",
   "execution_count": 4,
   "metadata": {
    "ExecuteTime": {
     "end_time": "2024-04-10T16:11:00.695732Z",
     "start_time": "2024-04-10T16:11:00.693132Z"
    }
   },
   "outputs": [],
   "source": [
    "# set dataset\n",
    "# dataset = Data.REVIEWS\n",
    "DS = Data.REVIEWS"
   ]
  },
  {
   "cell_type": "code",
   "execution_count": 5,
   "metadata": {
    "ExecuteTime": {
     "end_time": "2024-04-10T16:11:06.216755Z",
     "start_time": "2024-04-10T16:11:06.013616Z"
    },
    "id": "SEt6ZVbtDlYj"
   },
   "outputs": [],
   "source": [
    "if DS == Data.REVIEWS:\n",
    "    train_df = pd.read_csv(\"data/reviews_train.csv\")\n",
    "    test_df = pd.read_csv(\"data/reviews_test.csv\")\n",
    "\n",
    "    tf_vec = TfidfVectorizer(lowercase=False, stop_words=\"english\")\n",
    "    X_train_vec = tf_vec.fit_transform(train_df[\"text\"].values)  # .toarray()\n",
    "    X_test_vec = tf_vec.transform(test_df[\"text\"].values)  # .toarray()\n",
    "    X_train = train_df[\"text\"].values\n",
    "    X_test = test_df[\"text\"].values\n",
    "    y_train = train_df[\"label\"]\n",
    "    y_test = test_df[\"label\"]\n",
    "\n",
    "elif DS == Data.INCOME:\n",
    "    state = \"HI\"\n",
    "    year = \"2018\"\n",
    "    data_source = ACSDataSource(survey_year=year, horizon=\"1-Year\", survey=\"person\")\n",
    "    acs_data = data_source.get_data(states=[state], download=True)\n",
    "    features, label, group = ACSIncome.df_to_numpy(acs_data)\n",
    "    X_train, X_test, y_train, y_test = train_test_split(\n",
    "        features, label, test_size=0.20, random_state=42\n",
    "    )\n",
    "    scale = StandardScaler()\n",
    "    X_train_vec = scale.fit_transform(X_train)\n",
    "    X_test_vec = scale.transform(X_test)\n",
    "\n",
    "\n",
    "t_xtrain = torch.tensor(X_train_vec.toarray(), dtype=torch.float32)\n",
    "t_ytrain = torch.tensor(y_train, dtype=torch.float32).reshape(-1, 1)\n",
    "t_xtest = torch.tensor(X_test_vec.toarray(), dtype=torch.float32)\n",
    "t_ytest = torch.tensor(y_test, dtype=torch.float32).reshape(-1, 1)\n",
    "\n",
    "xtrain, xval, ytrain, yval = train_test_split(\n",
    "    t_xtrain, t_ytrain, test_size=0.20, random_state=42\n",
    ")"
   ]
  },
  {
   "cell_type": "code",
   "execution_count": 6,
   "metadata": {
    "colab": {
     "base_uri": "https://localhost:8080/"
    },
    "id": "_uthZod0Dqqb",
    "outputId": "73515692-4338-42da-bd5f-7113e96b99a0"
   },
   "outputs": [
    {
     "name": "stdout",
     "output_type": "stream",
     "text": [
      "linear SVM: 0.878125\n"
     ]
    }
   ],
   "source": [
    "# compare performance across different model classes\n",
    "model_lin_svm = SVC(\n",
    "    kernel=\"linear\",\n",
    "    probability=True,\n",
    ")\n",
    "model_lin_svm.fit(X_train_vec, y_train)\n",
    "print(f\"linear SVM: {model_lin_svm.score(X_test_vec, y_test)}\")"
   ]
  },
  {
   "cell_type": "markdown",
   "metadata": {},
   "source": [
    "## Section 1: Regularization"
   ]
  },
  {
   "cell_type": "code",
   "execution_count": null,
   "metadata": {},
   "outputs": [],
   "source": [
    "results_list = []\n",
    "num_seeds = 5\n",
    "seed_results = np.zeros((num_seeds, len(t_ytest)))\n",
    "if DS == Data.REVIEWS:\n",
    "    const_arr = [0, 0.1, 0.25, 0.5]\n",
    "    batch_arr = [10, 25, 50]\n",
    "elif DS == Data.INCOME:\n",
    "    const_arr = [0.1, 0.25, 0.75]\n",
    "    batch_arr = [10, 25, 50]\n",
    "\n",
    "for c in const_arr:\n",
    "    for batch_size in batch_arr:\n",
    "        for i in range(num_seeds):\n",
    "            print(f\"Running c={c} bsize={batch_size}, run={i}\")\n",
    "            torch.manual_seed(i)\n",
    "            xtrain, xval, ytrain, yval = train_test_split(\n",
    "                t_xtrain, t_ytrain, test_size=0.20, random_state=i\n",
    "            )\n",
    "\n",
    "            ref_pred = model_lin_svm.predict(xtrain)\n",
    "            dataset = eu.ExpDataset(\n",
    "                xtrain,\n",
    "                ytrain,\n",
    "                ref_pred=torch.tensor(ref_pred, dtype=torch.float32).reshape(-1, 1),\n",
    "            )\n",
    "            model = eu.Wide(input_size=t_xtrain.shape[1])\n",
    "            acc = eu.model_train_reg(\n",
    "                model,\n",
    "                dataset,\n",
    "                xval,\n",
    "                yval,\n",
    "                ref_model=model_lin_svm.predict,\n",
    "                batch_size=batch_size,\n",
    "                c=c,\n",
    "            )\n",
    "\n",
    "            yhat1 = model_lin_svm.predict(X_train_vec)\n",
    "            yhat2 = model(t_xtrain).round().detach().numpy().flatten()\n",
    "            disagreement = np.where(yhat1 != yhat2)[0]\n",
    "            dis_ratio_train = len(disagreement) / len(yhat1)\n",
    "            train_acc = (yhat2 == y_train).sum() / len(y_train)\n",
    "            print(train_acc, dis_ratio_train)\n",
    "\n",
    "            yhat1 = model_lin_svm.predict(X_test_vec)\n",
    "            yhat2 = model(t_xtest).round().detach().numpy().flatten()\n",
    "            disagreement = np.where(yhat1 != yhat2)[0]\n",
    "            dis_ratio_test = len(disagreement) / len(yhat1)\n",
    "            test_acc = (yhat2 == y_test).sum() / len(y_test)\n",
    "            print(test_acc, dis_ratio_test)\n",
    "\n",
    "            incorr1 = yhat1 != y_test\n",
    "            incorr2 = yhat2 != y_test\n",
    "            common_err = np.logical_and(incorr1, incorr2)\n",
    "            corrected = incorr1.sum() - common_err.sum()\n",
    "            seed_results[i] = yhat2\n",
    "\n",
    "            results_list.append(\n",
    "                {\n",
    "                    \"run\": i,\n",
    "                    \"const\": c,\n",
    "                    \"batch_size\": batch_size,\n",
    "                    \"acc\": test_acc,\n",
    "                    \"corrected\": corrected,\n",
    "                    \"train_dis\": dis_ratio_train,\n",
    "                    \"test_dis\": dis_ratio_test,\n",
    "                }\n",
    "            )\n",
    "            results_df = pd.DataFrame(results_list)\n",
    "            dataset_str = str(DS).split(\".\")[1]\n",
    "            results_df.to_csv(f\"results/{dataset_str}_reg2.csv\")"
   ]
  },
  {
   "cell_type": "code",
   "execution_count": 55,
   "metadata": {},
   "outputs": [],
   "source": [
    "np.save(\"results/reg_overlap.npy\", seed_results)"
   ]
  },
  {
   "cell_type": "markdown",
   "metadata": {},
   "source": [
    "## Section 2: Reweighting"
   ]
  },
  {
   "cell_type": "code",
   "execution_count": null,
   "metadata": {
    "id": "RxpBCFOrEGOG"
   },
   "outputs": [],
   "source": [
    "results_list = []\n",
    "num_seeds = 5\n",
    "seed_results = np.zeros((num_seeds, len(t_ytest)))\n",
    "if DS == Data.REVIEWS:\n",
    "    const_arr = [0, 1.0, 10.0, 50]\n",
    "    batch_arr = [50, 100, 150, 200]\n",
    "elif DS == Data.INCOME:\n",
    "    const_arr = [0, 0.5, 1.0, 5.0]\n",
    "    batch_arr = [20, 50, 100, 200]\n",
    "\n",
    "\n",
    "for c in const_arr:\n",
    "    for batch_size in batch_arr:  # , 100, 150, 200]:\n",
    "        for i in range(num_seeds):\n",
    "            print(f\"Running c={c} bsize={batch_size}, run={i}\")\n",
    "            xtrain, xval, ytrain, yval = train_test_split(\n",
    "                t_xtrain, t_ytrain, test_size=0.20, random_state=i\n",
    "            )\n",
    "            weight_vector = torch.tensor(\n",
    "                model_lin_svm.predict(xtrain.detach().numpy()).reshape(-1, 1)\n",
    "                != ytrain.detach().numpy(),\n",
    "                dtype=torch.float32,\n",
    "            )\n",
    "\n",
    "            dataset = eu.ExpDataset(xtrain, ytrain, weights=weight_vector)\n",
    "            model = eu.Wide(input_size=t_xtrain.shape[1])\n",
    "            acc = eu.model_train_weight(\n",
    "                model,\n",
    "                dataset,\n",
    "                xval,\n",
    "                yval,\n",
    "                ref_model=model_lin_svm.predict,\n",
    "                batch_size=batch_size,\n",
    "                c=c,\n",
    "            )\n",
    "            print(\"Accuracy (wide): %.2f\" % acc)\n",
    "\n",
    "            yhat1 = model_lin_svm.predict(X_train_vec)\n",
    "            yhat2 = model(t_xtrain).round().detach().numpy().flatten()\n",
    "            disagreement = np.where(yhat1 != yhat2)[0]\n",
    "            dis_ratio_train = len(disagreement) / len(yhat1)\n",
    "            train_acc = (yhat2 == y_train).sum() / len(y_train)\n",
    "\n",
    "            print(train_acc, dis_ratio_train)\n",
    "\n",
    "            yhat1 = model_lin_svm.predict(X_test_vec)\n",
    "            yhat2 = model(t_xtest).round().detach().numpy().flatten()\n",
    "            disagreement = np.where(yhat1 != yhat2)[0]\n",
    "            dis_ratio_test = len(disagreement) / len(yhat1)\n",
    "            test_acc = (yhat2 == y_test).sum() / len(y_test)\n",
    "            print(test_acc, dis_ratio_test)\n",
    "\n",
    "            # save seed results\n",
    "            seed_results[i] = yhat2\n",
    "\n",
    "            incorr1 = yhat1 != y_test\n",
    "            incorr2 = yhat2 != y_test\n",
    "            common_err = np.logical_and(incorr1, incorr2)\n",
    "            corrected = incorr1.sum() - common_err.sum()\n",
    "\n",
    "            results_list.append(\n",
    "                {\n",
    "                    \"run\": i,\n",
    "                    \"const\": c,\n",
    "                    \"batch_size\": batch_size,\n",
    "                    \"acc\": test_acc,\n",
    "                    \"corrected\": corrected,\n",
    "                    \"train_dis\": dis_ratio_train,\n",
    "                    \"test_dis\": dis_ratio_test,\n",
    "                }\n",
    "            )\n",
    "\n",
    "            results_df = pd.DataFrame(results_list)\n",
    "            dataset_str = str(DS).split(\".\")[1]\n",
    "            results_df.to_csv(f\"results/{dataset_str}reweighing_replication.csv\")\n",
    "            # np.save(\"results/reweight_overlap.npy\", seed_results)"
   ]
  },
  {
   "cell_type": "code",
   "execution_count": 127,
   "metadata": {},
   "outputs": [
    {
     "data": {
      "text/plain": [
       "1080"
      ]
     },
     "execution_count": 127,
     "metadata": {},
     "output_type": "execute_result"
    }
   ],
   "source": [
    "# total overlap \n",
    "((seed_results.T != np.repeat(y_test.reshape(-1, 1), 5, axis=1)).sum(axis=1) > 1).sum()"
   ]
  },
  {
   "cell_type": "code",
   "execution_count": 24,
   "metadata": {},
   "outputs": [],
   "source": [
    "def predict_proba_text(X_docs):\n",
    "    X_vect = torch.tensor(tf_vec.transform(X_docs).todense(), dtype=torch.float32)\n",
    "    preds = model(X_vect).detach().numpy()\n",
    "    prob = np.concatenate((1 - preds, preds), axis=1)\n",
    "    return prob\n",
    "\n",
    "\n",
    "def predict_proba_tab(X_docs):\n",
    "    X_vect = torch.tensor(scale.transform(X_docs), dtype=torch.float32)\n",
    "    preds = model(X_vect).detach().numpy()\n",
    "    prob = np.concatenate((1 - preds, preds), axis=1)\n",
    "    return prob"
   ]
  },
  {
   "cell_type": "markdown",
   "metadata": {},
   "source": [
    "### Reg Explanations"
   ]
  },
  {
   "cell_type": "code",
   "execution_count": 43,
   "metadata": {},
   "outputs": [
    {
     "name": "stdout",
     "output_type": "stream",
     "text": [
      "Running c=0 bsize=10, run=0\n"
     ]
    },
    {
     "name": "stderr",
     "output_type": "stream",
     "text": [
      "100%|███████████████████████████████████████████████████████| 100/100 [00:50<00:00,  2.00it/s]\n"
     ]
    },
    {
     "name": "stdout",
     "output_type": "stream",
     "text": [
      "Accuracy (wide): 0.87\n",
      "0.95 0.04140625\n",
      "0.875 0.090625\n"
     ]
    },
    {
     "name": "stderr",
     "output_type": "stream",
     "text": [
      "100%|███████████████████████████████████████████████████████| 320/320 [14:11<00:00,  2.66s/it]\n"
     ]
    },
    {
     "name": "stdout",
     "output_type": "stream",
     "text": [
      "Running c=0.1 bsize=10, run=0\n"
     ]
    },
    {
     "name": "stderr",
     "output_type": "stream",
     "text": [
      "100%|███████████████████████████████████████████████████████| 100/100 [00:49<00:00,  2.01it/s]\n"
     ]
    },
    {
     "name": "stdout",
     "output_type": "stream",
     "text": [
      "Accuracy (wide): 0.87\n",
      "0.9546875 0.03828125\n",
      "0.88125 0.084375\n"
     ]
    },
    {
     "name": "stderr",
     "output_type": "stream",
     "text": [
      "100%|███████████████████████████████████████████████████████| 320/320 [14:16<00:00,  2.68s/it]\n"
     ]
    },
    {
     "name": "stdout",
     "output_type": "stream",
     "text": [
      "Running c=0.25 bsize=10, run=0\n"
     ]
    },
    {
     "name": "stderr",
     "output_type": "stream",
     "text": [
      "100%|███████████████████████████████████████████████████████| 100/100 [00:54<00:00,  1.84it/s]\n"
     ]
    },
    {
     "name": "stdout",
     "output_type": "stream",
     "text": [
      "Accuracy (wide): 0.87\n",
      "0.97265625 0.03125\n",
      "0.859375 0.09375\n"
     ]
    },
    {
     "name": "stderr",
     "output_type": "stream",
     "text": [
      "100%|███████████████████████████████████████████████████████| 320/320 [14:16<00:00,  2.68s/it]\n"
     ]
    },
    {
     "name": "stdout",
     "output_type": "stream",
     "text": [
      "Running c=0.5 bsize=10, run=0\n"
     ]
    },
    {
     "name": "stderr",
     "output_type": "stream",
     "text": [
      "100%|███████████████████████████████████████████████████████| 100/100 [00:58<00:00,  1.72it/s]\n"
     ]
    },
    {
     "name": "stdout",
     "output_type": "stream",
     "text": [
      "Accuracy (wide): 0.84\n",
      "0.96640625 0.0375\n",
      "0.821875 0.125\n"
     ]
    },
    {
     "name": "stderr",
     "output_type": "stream",
     "text": [
      "100%|███████████████████████████████████████████████████████| 320/320 [14:18<00:00,  2.68s/it]\n"
     ]
    }
   ],
   "source": [
    "results_list = []\n",
    "model_exp_list = []\n",
    "\n",
    "if DS == Data.REVIEWS:\n",
    "    const_arr = [0, 0.1, 0.25, 0.5]\n",
    "    batch_arr = [10]\n",
    "    n_feat = 10\n",
    "elif DS == Data.INCOME:\n",
    "    const_arr = [0.1, 0.25, 0.5, 0.75]\n",
    "    batch_arr = [10]\n",
    "    n_feat = 5\n",
    "i = 0\n",
    "for c in const_arr:\n",
    "    for batch_size in batch_arr:\n",
    "        print(f\"Running c={c} bsize={batch_size}, run={i}\")\n",
    "        torch.manual_seed(i)\n",
    "        xtrain, xval, ytrain, yval = train_test_split(\n",
    "            t_xtrain, t_ytrain, test_size=0.20, random_state=i\n",
    "        )\n",
    "\n",
    "        ref_pred = model_lin_svm.predict(xtrain)\n",
    "        dataset = eu.ExpDataset(\n",
    "            xtrain,\n",
    "            ytrain,\n",
    "            ref_pred=torch.tensor(ref_pred, dtype=torch.float32).reshape(-1, 1),\n",
    "        )\n",
    "        model = eu.Wide(input_size=t_xtrain.shape[1])\n",
    "        acc = eu.model_train_reg(\n",
    "            model,\n",
    "            dataset,\n",
    "            xval,\n",
    "            yval,\n",
    "            ref_model=model_lin_svm.predict,\n",
    "            batch_size=batch_size,\n",
    "            c=c,\n",
    "        )\n",
    "        print(\"Accuracy (wide): %.2f\" % acc)\n",
    "\n",
    "        yhat1 = model_lin_svm.predict(X_train_vec)\n",
    "        yhat2 = model(t_xtrain).round().detach().numpy().flatten()\n",
    "        disagreement = np.where(yhat1 != yhat2)[0]\n",
    "        dis_ratio_train = len(disagreement) / len(yhat1)\n",
    "        train_acc = (yhat2 == y_train).sum() / len(y_train)\n",
    "\n",
    "        print(train_acc, dis_ratio_train)\n",
    "\n",
    "        yhat1 = model_lin_svm.predict(X_test_vec)\n",
    "        yhat2 = model(t_xtest).round().detach().numpy().flatten()\n",
    "        disagreement = np.where(yhat1 != yhat2)[0]\n",
    "        dis_ratio_test = len(disagreement) / len(yhat1)\n",
    "        test_acc = (yhat2 == y_test).sum() / len(y_test)\n",
    "        print(test_acc, dis_ratio_test)\n",
    "\n",
    "        incorr1 = yhat1 != y_test\n",
    "        incorr2 = yhat2 != y_test\n",
    "        common_err = np.logical_and(incorr1, incorr2)\n",
    "        corrected = incorr1.sum() - common_err.sum()\n",
    "\n",
    "        results_list.append(\n",
    "            {\n",
    "                \"run\": i,\n",
    "                \"const\": c,\n",
    "                \"batch_size\": batch_size,\n",
    "                \"acc\": test_acc,\n",
    "                \"corrected\": corrected,\n",
    "                \"train_dis\": dis_ratio_train,\n",
    "                \"test_dis\": dis_ratio_test,\n",
    "            }\n",
    "        )\n",
    "\n",
    "        results_df = pd.DataFrame(results_list)\n",
    "        dataset_str = str(DS).split(\".\")[1]\n",
    "        results_df.to_csv(f\"results/{dataset_str}_reweight_exp.csv\")\n",
    "\n",
    "        # computing explanation agreement with defined c1, c2, yhat1, yhat2\n",
    "\n",
    "        if DS == Data.REVIEWS:\n",
    "            explainer = lime.lime_text.LimeTextExplainer(\n",
    "                class_names=[\"deceptive\", \"real\"]\n",
    "            )\n",
    "            c1 = make_pipeline(tf_vec, model_lin_svm)\n",
    "            predict_proba = predict_proba_text\n",
    "        else:\n",
    "            explainer = lime.lime_tabular.LimeTabularExplainer(\n",
    "                features,\n",
    "                feature_names=ACSIncome._features,\n",
    "                class_names=[\"<50k\", \"50k+\"],\n",
    "                discretize_continuous=False,\n",
    "            )\n",
    "\n",
    "            c1 = make_pipeline(scale, model_lin_svm)\n",
    "            predict_proba = predict_proba_tab\n",
    "\n",
    "        for ind in tqdm(range(len(y_test))):\n",
    "            exp1 = explainer.explain_instance(\n",
    "                X_test[ind], c1.predict_proba, num_features=n_feat\n",
    "            )\n",
    "\n",
    "            exp1_feat = np.asarray([feat for feat, weight in exp1.local_exp[1]])\n",
    "            exp1_weights = np.asarray([weight for feat, weight in exp1.local_exp[1]])\n",
    "\n",
    "            exp2 = explainer.explain_instance(\n",
    "                X_test[ind], predict_proba, num_features=n_feat\n",
    "            )\n",
    "\n",
    "            exp2_feat = np.asarray([feat for feat, weight in exp2.local_exp[1]])\n",
    "            exp2_weights = np.asarray([weight for feat, weight in exp2.local_exp[1]])\n",
    "\n",
    "            pos_overlap, pos1_sum, pos2_sum = eu.pos_features_agg(\n",
    "                exp1_feat, exp1_weights, exp2_feat, exp2_weights, return_sum=True\n",
    "            )\n",
    "\n",
    "            neg_overlap, neg1_sum, neg2_sum = eu.neg_features_agg(\n",
    "                exp1_feat, exp1_weights, exp2_feat, exp2_weights, return_sum=True\n",
    "            )\n",
    "\n",
    "            model_exp_list.append(\n",
    "                {\n",
    "                    \"ind\": ind,\n",
    "                    \"y\": y_test[ind],\n",
    "                    \"p1\": yhat1[ind],\n",
    "                    \"p2\": yhat2[ind],\n",
    "                    \"top_feat\": eu.top_features(exp1_feat, exp2_feat),\n",
    "                    \"pred_feat\": eu.pred_features_agg(\n",
    "                        exp1_feat,\n",
    "                        exp1_weights,\n",
    "                        yhat1[ind],\n",
    "                        exp2_feat,\n",
    "                        exp2_weights,\n",
    "                        yhat2[ind],\n",
    "                    ),\n",
    "                    \"pos_pred\": pos_overlap,\n",
    "                    \"neg_pred\": neg_overlap,\n",
    "                    \"p1_pos\": pos1_sum,\n",
    "                    \"p1_neg\": neg1_sum,\n",
    "                    \"p2_pos\": pos2_sum,\n",
    "                    \"p2_neg\": neg2_sum,\n",
    "                    \"run\": i,\n",
    "                    \"const\": c,\n",
    "                    \"batch_size\": batch_size,\n",
    "                }\n",
    "            )\n",
    "    model_exp_df = pd.DataFrame(model_exp_list)\n",
    "    model_exp_df.to_csv(f\"results/{dataset_str}_reg_exp_agree.csv\")"
   ]
  },
  {
   "cell_type": "markdown",
   "metadata": {},
   "source": [
    "### Reweigting Explanations"
   ]
  },
  {
   "cell_type": "code",
   "execution_count": 47,
   "metadata": {
    "id": "n27ZQ8-9avu3"
   },
   "outputs": [
    {
     "name": "stdout",
     "output_type": "stream",
     "text": [
      "Running c=0 bsize=100, run=0\n"
     ]
    },
    {
     "name": "stderr",
     "output_type": "stream",
     "text": [
      "100%|███████████████████████████████████████████████████████| 100/100 [00:34<00:00,  2.89it/s]\n"
     ]
    },
    {
     "name": "stdout",
     "output_type": "stream",
     "text": [
      "Accuracy (wide): 0.85\n",
      "0.9703125 0.03359375\n",
      "0.871875 0.09375\n"
     ]
    },
    {
     "name": "stderr",
     "output_type": "stream",
     "text": [
      "100%|███████████████████████████████████████████████████████| 320/320 [14:26<00:00,  2.71s/it]\n"
     ]
    },
    {
     "name": "stdout",
     "output_type": "stream",
     "text": [
      "Running c=1.0 bsize=100, run=0\n"
     ]
    },
    {
     "name": "stderr",
     "output_type": "stream",
     "text": [
      "100%|███████████████████████████████████████████████████████| 100/100 [00:26<00:00,  3.79it/s]\n"
     ]
    },
    {
     "name": "stdout",
     "output_type": "stream",
     "text": [
      "Accuracy (wide): 0.84\n",
      "0.9671875 0.03671875\n",
      "0.8625 0.090625\n"
     ]
    },
    {
     "name": "stderr",
     "output_type": "stream",
     "text": [
      "100%|███████████████████████████████████████████████████████| 320/320 [14:29<00:00,  2.72s/it]\n"
     ]
    },
    {
     "name": "stdout",
     "output_type": "stream",
     "text": [
      "Running c=10.0 bsize=100, run=0\n"
     ]
    },
    {
     "name": "stderr",
     "output_type": "stream",
     "text": [
      "100%|███████████████████████████████████████████████████████| 100/100 [00:24<00:00,  4.15it/s]\n"
     ]
    },
    {
     "name": "stdout",
     "output_type": "stream",
     "text": [
      "Accuracy (wide): 0.85\n",
      "0.96875 0.03515625\n",
      "0.86875 0.121875\n"
     ]
    },
    {
     "name": "stderr",
     "output_type": "stream",
     "text": [
      "100%|███████████████████████████████████████████████████████| 320/320 [14:34<00:00,  2.73s/it]\n"
     ]
    },
    {
     "name": "stdout",
     "output_type": "stream",
     "text": [
      "Running c=50 bsize=100, run=0\n"
     ]
    },
    {
     "name": "stderr",
     "output_type": "stream",
     "text": [
      "100%|███████████████████████████████████████████████████████| 100/100 [00:25<00:00,  3.99it/s]\n"
     ]
    },
    {
     "name": "stdout",
     "output_type": "stream",
     "text": [
      "Accuracy (wide): 0.84\n",
      "0.96796875 0.0359375\n",
      "0.853125 0.125\n"
     ]
    },
    {
     "name": "stderr",
     "output_type": "stream",
     "text": [
      "100%|███████████████████████████████████████████████████████| 320/320 [14:26<00:00,  2.71s/it]\n"
     ]
    }
   ],
   "source": [
    "# TODO: Refactor for new training code run and compare explanations\n",
    "results_list = []\n",
    "model_exp_list = []\n",
    "\n",
    "if DS == Data.REVIEWS:\n",
    "    const_arr = [0, 1.0, 10.0, 50]\n",
    "    batch_arr = [100]\n",
    "    n_feat = 10\n",
    "elif DS == Data.INCOME:\n",
    "    const_arr = [0, 0.5, 1.0, 5.0]\n",
    "    batch_arr = [100]\n",
    "    n_feat = 5\n",
    "num_seeds = 1\n",
    "for c in const_arr:\n",
    "    for batch_size in batch_arr:  # , 100, 150, 200]:\n",
    "        print(f\"Running c={c} bsize={batch_size}, run={i}\")\n",
    "        xtrain, xval, ytrain, yval = train_test_split(\n",
    "            t_xtrain, t_ytrain, test_size=0.20, random_state=i\n",
    "        )\n",
    "        weight_vector = torch.tensor(\n",
    "            model_lin_svm.predict(xtrain.detach().numpy()).reshape(-1, 1)\n",
    "            != ytrain.detach().numpy(),\n",
    "            dtype=torch.float32,\n",
    "        )\n",
    "\n",
    "        dataset = eu.ExpDataset(xtrain, ytrain, weights=weight_vector)\n",
    "        model = eu.Wide(input_size=t_xtrain.shape[1])\n",
    "        acc = eu.model_train_weight(\n",
    "            model,\n",
    "            dataset,\n",
    "            xval,\n",
    "            yval,\n",
    "            ref_model=model_lin_svm.predict,\n",
    "            batch_size=batch_size,\n",
    "            c=c,\n",
    "        )\n",
    "        print(\"Accuracy (wide): %.2f\" % acc)\n",
    "\n",
    "        yhat1 = model_lin_svm.predict(X_train_vec)\n",
    "        yhat2 = model(t_xtrain).round().detach().numpy().flatten()\n",
    "        disagreement = np.where(yhat1 != yhat2)[0]\n",
    "        dis_ratio_train = len(disagreement) / len(yhat1)\n",
    "        train_acc = (yhat2 == y_train).sum() / len(y_train)\n",
    "\n",
    "        print(train_acc, dis_ratio_train)\n",
    "\n",
    "        yhat1 = model_lin_svm.predict(X_test_vec)\n",
    "        yhat2 = model(t_xtest).round().detach().numpy().flatten()\n",
    "        disagreement = np.where(yhat1 != yhat2)[0]\n",
    "        dis_ratio_test = len(disagreement) / len(yhat1)\n",
    "        test_acc = (yhat2 == y_test).sum() / len(y_test)\n",
    "        print(test_acc, dis_ratio_test)\n",
    "\n",
    "        # save seed results\n",
    "\n",
    "        incorr1 = yhat1 != y_test\n",
    "        incorr2 = yhat2 != y_test\n",
    "        common_err = np.logical_and(incorr1, incorr2)\n",
    "        corrected = incorr1.sum() - common_err.sum()\n",
    "\n",
    "        results_list.append(\n",
    "            {\n",
    "                \"run\": i,\n",
    "                \"const\": c,\n",
    "                \"batch_size\": batch_size,\n",
    "                \"acc\": test_acc,\n",
    "                \"corrected\": corrected,\n",
    "                \"train_dis\": dis_ratio_train,\n",
    "                \"test_dis\": dis_ratio_test,\n",
    "            }\n",
    "        )\n",
    "\n",
    "        results_df = pd.DataFrame(results_list)\n",
    "        dataset_str = str(DS).split(\".\")[1]\n",
    "        results_df.to_csv(f\"results/{dataset_str}_reweight_exp.csv\")\n",
    "\n",
    "        # computing explanation agreement with defined c1, c2, yhat1, yhat2\n",
    "\n",
    "        if DS == Data.REVIEWS:\n",
    "            explainer = lime.lime_text.LimeTextExplainer(\n",
    "                class_names=[\"deceptive\", \"real\"]\n",
    "            )\n",
    "            c1 = make_pipeline(tf_vec, model_lin_svm)\n",
    "            predict_proba = predict_proba_text\n",
    "        else:\n",
    "            explainer = lime.lime_tabular.LimeTabularExplainer(\n",
    "                features,\n",
    "                feature_names=ACSIncome._features,\n",
    "                class_names=[\"<50k\", \"50k+\"],\n",
    "                discretize_continuous=False,\n",
    "            )\n",
    "\n",
    "            c1 = make_pipeline(scale, model_lin_svm)\n",
    "            predict_proba = predict_proba_tab\n",
    "\n",
    "        for ind in tqdm(range(len(y_test))):\n",
    "            exp1 = explainer.explain_instance(\n",
    "                X_test[ind], c1.predict_proba, num_features=n_feat\n",
    "            )\n",
    "\n",
    "            exp1_feat = np.asarray([feat for feat, weight in exp1.local_exp[1]])\n",
    "            exp1_weights = np.asarray([weight for feat, weight in exp1.local_exp[1]])\n",
    "\n",
    "            exp2 = explainer.explain_instance(\n",
    "                X_test[ind], predict_proba, num_features=n_feat\n",
    "            )\n",
    "\n",
    "            exp2_feat = np.asarray([feat for feat, weight in exp2.local_exp[1]])\n",
    "            exp2_weights = np.asarray([weight for feat, weight in exp2.local_exp[1]])\n",
    "\n",
    "            pos_overlap, pos1_sum, pos2_sum = eu.pos_features_agg(\n",
    "                exp1_feat, exp1_weights, exp2_feat, exp2_weights, return_sum=True\n",
    "            )\n",
    "\n",
    "            neg_overlap, neg1_sum, neg2_sum = eu.neg_features_agg(\n",
    "                exp1_feat, exp1_weights, exp2_feat, exp2_weights, return_sum=True\n",
    "            )\n",
    "\n",
    "            model_exp_list.append(\n",
    "                {\n",
    "                    \"ind\": ind,\n",
    "                    \"y\": y_test[ind],\n",
    "                    \"p1\": yhat1[ind],\n",
    "                    \"p2\": yhat2[ind],\n",
    "                    \"top_feat\": eu.top_features(exp1_feat, exp2_feat),\n",
    "                    \"pred_feat\": eu.pred_features_agg(\n",
    "                        exp1_feat,\n",
    "                        exp1_weights,\n",
    "                        yhat1[ind],\n",
    "                        exp2_feat,\n",
    "                        exp2_weights,\n",
    "                        yhat2[ind],\n",
    "                    ),\n",
    "                    \"pos_pred\": pos_overlap,\n",
    "                    \"neg_pred\": neg_overlap,\n",
    "                    \"p1_pos\": pos1_sum,\n",
    "                    \"p1_neg\": neg1_sum,\n",
    "                    \"p2_pos\": pos2_sum,\n",
    "                    \"p2_neg\": neg2_sum,\n",
    "                    \"run\": i,\n",
    "                    \"const\": c,\n",
    "                    \"batch_size\": batch_size,\n",
    "                }\n",
    "            )\n",
    "    model_exp_df = pd.DataFrame(model_exp_list)\n",
    "    model_exp_df.to_csv(f\"results/{dataset_str}_reweight_exp_agree.csv\")"
   ]
  },
  {
   "cell_type": "markdown",
   "metadata": {
    "id": "zJGVq5_dlRPl"
   },
   "source": [
    "## Plotting "
   ]
  },
  {
   "cell_type": "code",
   "execution_count": 4,
   "metadata": {
    "id": "a3zcyjOobrT4"
   },
   "outputs": [],
   "source": [
    "# plot data\n",
    "dataset_str=\"reviews\"\n",
    "df = pd.read_csv(f\"results/{dataset_str}_reweight_exp_agree.csv\")"
   ]
  },
  {
   "cell_type": "code",
   "execution_count": 5,
   "metadata": {
    "id": "HHVTM6JSXk5R"
   },
   "outputs": [],
   "source": [
    "plot_df = pd.melt(df[[\"const\", \"top_feat\", \"pos_pred\", \"neg_pred\"]], [\"const\"])\n",
    "plot_dict = {\n",
    "    \"top_feat\": \"Top 10 features\",\n",
    "    \"pos_pred\": \"Positive features\",\n",
    "    \"neg_pred\": \"Negative features\",\n",
    "}\n",
    "plot_df[\"variable\"] = plot_df[\"variable\"].map(plot_dict)"
   ]
  },
  {
   "cell_type": "code",
   "execution_count": 16,
   "metadata": {
    "colab": {
     "base_uri": "https://localhost:8080/",
     "height": 487
    },
    "id": "9ttVo5qoV0NZ",
    "outputId": "5dc938d1-51d2-4888-ae83-e70aa0d0c688"
   },
   "outputs": [
    {
     "data": {
      "image/png": "[encoded data removed]",
      "text/plain": [
       "<Figure size 700x400 with 1 Axes>"
      ]
     },
     "metadata": {},
     "output_type": "display_data"
    }
   ],
   "source": [
    "fig, ax = plt.subplots(figsize=(7, 4))\n",
    "sns.lineplot(data=plot_df, x=\"const\", y=\"value\", hue=\"variable\", errorbar=\"ci\", ax=ax)\n",
    "ax.set_xscale(\"log\")\n",
    "plt.legend(fontsize=15)\n",
    "plt.xlabel(\"$\\lambda$\", fontsize=15)\n",
    "plt.ylabel(\"Agreement metric\", fontsize=15)\n",
    "plt.yticks(fontsize=15)\n",
    "plt.xticks(fontsize=15)\n",
    "plt.title(\n",
    "    \"Explanation agreement with increasing \\n upweighting ($\\lambda$) of incorrect examples\"\n",
    "    , fontsize=15\n",
    ")\n",
    "plt.tight_layout()\n",
    "plt.savefig(f\"img/{dataset_str}_reweight_exp.pdf\")"
   ]
  },
  {
   "cell_type": "code",
   "execution_count": 13,
   "metadata": {},
   "outputs": [
    {
     "data": {
      "image/png": "[encoded data removed]",
      "text/plain": [
       "<Figure size 500x300 with 1 Axes>"
      ]
     },
     "metadata": {},
     "output_type": "display_data"
    }
   ],
   "source": [
    "dataset_str = \"reviews\"\n",
    "df = pd.read_csv(f\"results/{dataset_str}_reg_exp_agree.csv\")\n",
    "\n",
    "plot_df = pd.melt(df[[\"const\", \"top_feat\", \"pos_pred\", \"neg_pred\"]], [\"const\"])\n",
    "plot_dict = {\n",
    "    \"top_feat\": \"Top 10 features\",\n",
    "    \"pos_pred\": \"Positive features\",\n",
    "    \"neg_pred\": \"Negative features\",\n",
    "}\n",
    "plot_df[\"variable\"] = plot_df[\"variable\"].map(plot_dict)\n",
    "\n",
    "# fig, ax = plt.subplots(figsize=(7, 4))\n",
    "# sns.lineplot(data=plot_df, x=\"const\", y=\"value\", hue=\"variable\", errorbar=\"ci\", ax=ax)\n",
    "# ax.set_xscale(\"log\")\n",
    "# plt.legend(fontsize=15)\n",
    "# plt.xlabel(\"$\\lambda$\", fontsize=15)\n",
    "# plt.ylabel(\"Agreement metric\", fontsize=15)\n",
    "# ax.tick_params(axis='x', labelsize=15)\n",
    "# ax.tick_params(axis='y', labelsize=15)\n",
    "# plt.title(\"Explanation agreement with \\n increasing ($\\lambda$)  regularization\", fontsize=15)\n",
    "# plt.tight_layout()\n",
    "# plt.savefig(f\"img/{dataset_str}_reg_exp.pdf\")\n",
    "\n",
    "fig, ax = plt.subplots(figsize=(5, 3))\n",
    "sns.lineplot(data=plot_df, x=\"const\", y=\"value\", hue=\"variable\", errorbar=\"ci\", ax=ax)\n",
    "ax.set_xscale(\"log\")\n",
    "\n",
    "# Set legend font size\n",
    "plt.legend(fontsize=10)\n",
    "\n",
    "# Set axis labels and title with specific font sizes\n",
    "ax.set_xlabel(\"$\\lambda$\", fontsize=12)\n",
    "ax.set_ylabel(\"Agreement metric\", fontsize=12)\n",
    "ax.set_title(\"Explanation agreement with \\n increasing ($\\lambda$) regularization\", fontsize=12)\n",
    "\n",
    "# Set tick font sizes for both axes directly through the Axes object\n",
    "ax.tick_params(axis='y', labelsize=12)\n",
    "\n",
    "plt.tight_layout()\n",
    "plt.savefig(f\"img/{dataset_str}_reg_exp.pdf\")"
   ]
  },
  {
   "cell_type": "code",
   "execution_count": null,
   "metadata": {},
   "outputs": [],
   "source": []
  }
 ],
 "metadata": {
  "colab": {
   "provenance": []
  },
  "gpuClass": "standard",
  "kernelspec": {
   "display_name": "Python 3 (ipykernel)",
   "language": "python",
   "name": "python3"
  },
  "language_info": {
   "codemirror_mode": {
    "name": "ipython",
    "version": 3
   },
   "file_extension": ".py",
   "mimetype": "text/x-python",
   "name": "python",
   "nbconvert_exporter": "python",
   "pygments_lexer": "ipython3",
   "version": "3.10.6"
  }
 },
 "nbformat": 4,
 "nbformat_minor": 4
}
