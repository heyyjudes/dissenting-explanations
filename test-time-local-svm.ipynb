{
 "cells": [
  {
   "cell_type": "code",
   "execution_count": null,
   "id": "eb73c3be-9872-45d7-97d1-610e991ffa8c",
   "metadata": {
    "ExecuteTime": {
     "end_time": "2024-04-10T16:36:15.276634Z",
     "start_time": "2024-04-10T16:36:15.062201Z"
    }
   },
   "outputs": [],
   "source": [
    "# Sklearn imports\n",
    "from sklearn.model_selection import train_test_split\n",
    "from sklearn.ensemble import RandomForestClassifier\n",
    "from sklearn.preprocessing import StandardScaler\n",
    "from sklearn.svm import SVC\n",
    "from sklearn.pipeline import make_pipeline\n",
    "\n",
    "# text libs\n",
    "from sklearn.feature_extraction.text import TfidfVectorizer\n",
    "\n",
    "import lime.lime_text\n",
    "import lime.lime_tabular\n",
    "import numpy as np\n",
    "import pandas as pd\n",
    "from tqdm import tqdm\n",
    "\n",
    "from enum import Enum\n",
    "import random\n",
    "from scipy.sparse import vstack"
   ]
  },
  {
   "cell_type": "code",
   "execution_count": null,
   "id": "7e312b17-0b2c-4934-8c9a-35b717528fbf",
   "metadata": {
    "ExecuteTime": {
     "end_time": "2024-04-10T16:36:16.281113Z",
     "start_time": "2024-04-10T16:36:15.933785Z"
    }
   },
   "outputs": [],
   "source": [
    "from folktables import ACSDataSource, ACSIncome\n",
    "\n",
    "# local libraries\n",
    "import exp_utils as eu"
   ]
  },
  {
   "cell_type": "code",
   "execution_count": 3,
   "id": "490bb82f-3523-4fab-9ff2-f000eccc0288",
   "metadata": {},
   "outputs": [],
   "source": [
    "%load_ext autoreload\n",
    "%autoreload 2"
   ]
  },
  {
   "cell_type": "code",
   "execution_count": 4,
   "id": "bc4178df-7869-46b3-a94e-5fa713e78137",
   "metadata": {},
   "outputs": [],
   "source": [
    "class Data(Enum):\n",
    "    REVIEWS = 1\n",
    "    INCOME = 2\n",
    "\n",
    "\n",
    "Data = Enum(\"Data\", [\"REVIEWS\", \"INCOME\"])"
   ]
  },
  {
   "cell_type": "code",
   "execution_count": 5,
   "id": "9a2346bd-09b3-4051-9b9a-021fb236a626",
   "metadata": {},
   "outputs": [],
   "source": [
    "# set dataset\n",
    "# dataset = Data.REVIEWS\n",
    "DS = Data.INCOME\n",
    "dataset_str = str(DS).split(\".\")[1]"
   ]
  },
  {
   "cell_type": "code",
   "execution_count": 8,
   "id": "af14e465-d143-4478-ba35-081002dfa7dd",
   "metadata": {},
   "outputs": [],
   "source": [
    "if DS == Data.REVIEWS:\n",
    "    train_df = pd.read_csv(\"data/reviews_train.csv\")\n",
    "    test_df = pd.read_csv(\"data/reviews_test.csv\")\n",
    "\n",
    "    tf_vec = TfidfVectorizer(lowercase=False, stop_words=\"english\")\n",
    "    X_train_vec = tf_vec.fit_transform(train_df[\"text\"].values).toarray()\n",
    "    X_test_vec = tf_vec.transform(test_df[\"text\"].values).toarray()\n",
    "    X_train = train_df[\"text\"].values\n",
    "    X_test = test_df[\"text\"].values\n",
    "    y_train = train_df[\"label\"]\n",
    "    y_test = test_df[\"label\"]\n",
    "\n",
    "elif DS == Data.INCOME:\n",
    "    state = \"HI\"\n",
    "    year = \"2018\"\n",
    "    data_source = ACSDataSource(survey_year=year, horizon=\"1-Year\", survey=\"person\")\n",
    "    acs_data = data_source.get_data(states=[state], download=True)\n",
    "    features, label, group = ACSIncome.df_to_numpy(acs_data)\n",
    "    X_train, X_test, y_train, y_test = train_test_split(\n",
    "        features, label, test_size=0.20, random_state=42\n",
    "    )\n",
    "    scale = StandardScaler()\n",
    "    X_train_vec = scale.fit_transform(X_train)\n",
    "    X_test_vec = scale.transform(X_test)"
   ]
  },
  {
   "cell_type": "code",
   "execution_count": 9,
   "id": "bf80dd84-50e8-4ac4-8e2b-13f599fb0ee7",
   "metadata": {},
   "outputs": [
    {
     "name": "stdout",
     "output_type": "stream",
     "text": [
      "linear SVM: 0.7472527472527473\n"
     ]
    }
   ],
   "source": [
    "# compare performance across different model classes\n",
    "model_lin_svm = SVC(\n",
    "    kernel=\"linear\",\n",
    "    probability=True,\n",
    ")\n",
    "model_lin_svm.fit(X_train_vec, y_train)\n",
    "print(f\"linear SVM: {model_lin_svm.score(X_test_vec, y_test)}\")"
   ]
  },
  {
   "cell_type": "code",
   "execution_count": 29,
   "id": "db048113-67df-4972-93cc-8db4abfcbd4d",
   "metadata": {},
   "outputs": [
    {
     "name": "stderr",
     "output_type": "stream",
     "text": [
      "100%|█████████████████████████████████████████████████████████████████████████████████████| 500/500 [05:11<00:00,  1.60it/s]\n",
      "100%|█████████████████████████████████████████████████████████████████████████████████████| 500/500 [06:27<00:00,  1.29it/s]\n",
      "100%|█████████████████████████████████████████████████████████████████████████████████████| 500/500 [23:52<00:00,  2.87s/it]\n",
      "100%|█████████████████████████████████████████████████████████████████████████████████████| 500/500 [17:34<00:00,  2.11s/it]\n"
     ]
    }
   ],
   "source": [
    "if DS == Data.REVIEWS:\n",
    "    n_feat = 10\n",
    "elif DS == Data.INCOME:\n",
    "    n_feat = 5\n",
    "\n",
    "aug_results = []\n",
    "random.seed(0)\n",
    "for size in [800, 1600, 3200, len(y_train)]: \n",
    "    incl = np.asarray(random.sample(range(len(y_train)), size))\n",
    "    ref_model = model_lin_svm\n",
    "    for ind in tqdm(range(len(y_test))[:500]):\n",
    "        test_instance = X_test_vec[ind].reshape(1, -1)\n",
    "        pred = ref_model.predict(test_instance.reshape(1, -1))\n",
    "\n",
    "        X_train_aug = vstack((X_train_vec[incl], test_instance))\n",
    "        y_train_aug = np.vstack((y_train[incl].reshape(-1, 1), 1 - pred)).flatten()\n",
    "\n",
    "        X_test_aug = vstack((X_test_vec[:ind], X_test_vec[ind + 1 :]))\n",
    "        y_test_aug = np.delete(y_test, ind)\n",
    "\n",
    "        aug_model = RandomForestClassifier()\n",
    "        aug_model.fit(X_train_aug, y_train_aug)\n",
    "        acc = aug_model.score(X_test_aug, y_test_aug.reshape(-1, 1))\n",
    "\n",
    "        success = (aug_model.predict(test_instance) != pred)[0]\n",
    "\n",
    "        if DS == Data.REVIEWS:\n",
    "            explainer = lime.lime_text.LimeTextExplainer(class_names=[\"deceptive\", \"real\"])\n",
    "            c1 = make_pipeline(tf_vec, ref_model)\n",
    "            c2 = make_pipeline(tf_vec, aug_model)\n",
    "        else:\n",
    "            explainer = lime.lime_tabular.LimeTabularExplainer(\n",
    "                features,\n",
    "                feature_names=ACSIncome._features,\n",
    "                class_names=[\"<50k\", \"50k+\"],\n",
    "                discretize_continuous=False,\n",
    "            )\n",
    "            c1 = make_pipeline(scale, ref_model)\n",
    "            c2 = make_pipeline(scale, aug_model)\n",
    "\n",
    "        exp1 = explainer.explain_instance(\n",
    "            X_test[ind], c1.predict_proba, num_features=n_feat\n",
    "        )\n",
    "\n",
    "        exp1_feat = np.asarray([feat for feat, weight in exp1.local_exp[1]])\n",
    "        exp1_weights = np.asarray([weight for feat, weight in exp1.local_exp[1]])\n",
    "\n",
    "        exp2 = explainer.explain_instance(\n",
    "            X_test[ind], c2.predict_proba, num_features=n_feat\n",
    "        )\n",
    "\n",
    "        exp2_feat = np.asarray([feat for feat, weight in exp2.local_exp[1]])\n",
    "        exp2_weights = np.asarray([weight for feat, weight in exp2.local_exp[1]])\n",
    "\n",
    "        aug_results.append(\n",
    "            {\n",
    "                \"ind\": ind,\n",
    "                \"orig_pred\": pred[0],\n",
    "                \"retrain_acc\": acc,\n",
    "                \"top_feat\": eu.top_features(exp1_feat, exp2_feat),\n",
    "                \"pos_pred\": eu.pos_features_agg(\n",
    "                    exp1_feat, exp1_weights, exp2_feat, exp2_weights\n",
    "                ),\n",
    "                \"neg_pred\": eu.neg_features_agg(\n",
    "                    exp1_feat, exp1_weights, exp2_feat, exp2_weights\n",
    "                ),\n",
    "                \"success\": int(success),\n",
    "            }\n",
    "        )\n",
    "        if ind % 10 == 0:\n",
    "            model_aug_df = pd.DataFrame(aug_results)\n",
    "\n",
    "            model_aug_df.to_csv(\n",
    "                f\"results/{dataset_str}_svm_aug_results_{len(y_train_aug)}.csv\"\n",
    "            )"
   ]
  },
  {
   "cell_type": "code",
   "execution_count": 34,
   "id": "c4e4bd93-ae88-4549-b993-180db6bc5089",
   "metadata": {},
   "outputs": [
    {
     "name": "stdout",
     "output_type": "stream",
     "text": [
      "6185 0.012894709610331923 0.14446879342593105\n",
      "3201 0.007988872834321365 0.1571017066075198\n",
      "1601 0.005025023188494429 0.1665631781773013\n",
      "801 0.004065006858140407 0.0823609393322734\n",
      "401 0.0013404813669488968 0.16043024415121315\n"
     ]
    }
   ],
   "source": [
    "for n in [len(y_train)+1, 3201, 1601, 801,401]:\n",
    "    model_aug_df = pd.read_csv(f\"results/{dataset_str}_svm_aug_results_{n}.csv\")\n",
    "    print(n, model_aug_df.var()[\"success\"], model_aug_df.std()[\"top_feat\"])"
   ]
  }
 ],
 "metadata": {
  "kernelspec": {
   "display_name": "Python 3 (ipykernel)",
   "language": "python",
   "name": "python3"
  },
  "language_info": {
   "codemirror_mode": {
    "name": "ipython",
    "version": 3
   },
   "file_extension": ".py",
   "mimetype": "text/x-python",
   "name": "python",
   "nbconvert_exporter": "python",
   "pygments_lexer": "ipython3",
   "version": "3.10.6"
  }
 },
 "nbformat": 4,
 "nbformat_minor": 5
}
